{
 "cells": [
  {
   "cell_type": "markdown",
   "metadata": {},
   "source": [
    "# A quick introduction to Python3 in Jupyter Notebook\n",
    "\n",
    "This is a very brief overview of __Python3__. It is not in any way comprehensive. It assumes you have some programming experience such as C(++), Java or Matlab. Try playing with the various cells to understand how it works. *It does not cover modules.*\n",
    "\n",
    "Note *Markdown* cells __like__ this are displayed with the formatting used when they are run. They are somewhere you can put titles or larger comments with more complex formatting. You can click on them to edit and then re-run them.\n",
    "\n",
    "KMC/2019/2020"
   ]
  },
  {
   "cell_type": "markdown",
   "metadata": {},
   "source": [
    "## Variables"
   ]
  },
  {
   "cell_type": "code",
   "execution_count": null,
   "metadata": {},
   "outputs": [],
   "source": [
    "# This box is executable\n",
    "\n",
    "# Python does n't require you to identify the types of variables. It will do it's best to figure it out for you.\n",
    "\n",
    "a = 1          # Integer - You may see 4321L in Python2 to indicate a long. Python3 does not support this.\n",
    "b = 5.3e3      # Floating point\n",
    "c = 1.4 + 3.5J # Complex (denoted by the ... + ... J)\n",
    "d ='Hello'     # String\n",
    "e = True       # Boolean\n",
    "\n",
    "print('This is an integer value',a)\n",
    "print('This is a float value ',b)\n",
    "print('This is a complex value', c)\n",
    "print(d)\n",
    "print('This is a boolean value', e)"
   ]
  },
  {
   "cell_type": "code",
   "execution_count": null,
   "metadata": {},
   "outputs": [],
   "source": [
    "# All the usual arithmetic operators are present.\n",
    "\n",
    "print (a * 5)\n",
    "f = a + b\n",
    "print (f) # Note the promotion to a floating point value. Python does n't typically do the casting.\n"
   ]
  },
  {
   "cell_type": "code",
   "execution_count": null,
   "metadata": {},
   "outputs": [],
   "source": [
    "# There are logical and bitwise operators\n",
    "g = False\n",
    "print (e and g)\n",
    "print (e or g)\n",
    "\n",
    "h = 4\n",
    "print (a & h)\n",
    "print (a << h)"
   ]
  },
  {
   "cell_type": "code",
   "execution_count": null,
   "metadata": {},
   "outputs": [],
   "source": [
    "#Python uses lists as it's basic compound data type.\n",
    "\n",
    "my_integer_list = [1, 2, 3, 4, 5, 6]\n",
    "print(my_integer_list)\n",
    "\n",
    "# All the elements don't have be the same.\n",
    "my_varied_list = [1, 'Hello', 56, 4.3+2.7J]\n",
    "print(my_varied_list)"
   ]
  },
  {
   "cell_type": "code",
   "execution_count": null,
   "metadata": {},
   "outputs": [],
   "source": [
    "# You can manipulate lists directly in many different way.\n",
    "# Check out the documentation for the methods available as well.\n",
    "\n",
    "letters = ['a', 'b', 'c', 'd', 'e', 'f', 'g']\n",
    "print(letters)\n",
    "\n",
    "# replace some values\n",
    "letters[2:5] = ['C', 'D', 'E'] # The colon is used as a range operation. Y\n",
    "print(letters)\n",
    "\n",
    "# now remove them\n",
    "letters[2:5] = [] # The range your replace does need to be the same length\n",
    "print(letters)\n",
    "\n",
    "# clear the list by replacing all the elements with an empty list\n",
    "letters[:] = []\n",
    "print(letters)\n",
    "\n",
    "# Note you can choose to leave one or both values blank to indicate the end or beginning of the list.\n",
    "# And negative numbers indicate counting from the right not the left.\n",
    "\n",
    "print(my_integer_list[:-2])"
   ]
  },
  {
   "cell_type": "code",
   "execution_count": null,
   "metadata": {},
   "outputs": [],
   "source": [
    "# You can concatenate lists\n",
    "\n",
    "my_longer_list = my_integer_list + [10, 11, 12, 13]\n",
    "print(my_longer_list)\n",
    "\n",
    "# There's also an append method.\n",
    "my_integer_list.append(10)\n",
    "print(my_integer_list)\n"
   ]
  },
  {
   "cell_type": "code",
   "execution_count": null,
   "metadata": {},
   "outputs": [],
   "source": [
    "# But watch out\n",
    "my_integer_list.append([15,16,16]) # Appending to the list as an element not a concatenation\n",
    "\n",
    "print(my_integer_list) "
   ]
  },
  {
   "cell_type": "code",
   "execution_count": null,
   "metadata": {},
   "outputs": [],
   "source": [
    "# Lists can be element as well. And you might think that means they are arrays as well.\n",
    "# And you can treat them like arrays some of the time. But their flexibility costs space and time.\n",
    "\n",
    "# Python provides a basic array class that is a cheap wrapper on C(++) style 1D arrays.\n",
    "import array as ar\n",
    "\n",
    "x = ar.array('f',[3, 6, 9, 12]) #The type of the elements and then the data\n",
    "print(x[3])\n",
    "\n",
    "print((x + x)[3:5])\n",
    "\n",
    "# pandas provides an efficient 2D array class."
   ]
  },
  {
   "cell_type": "code",
   "execution_count": null,
   "metadata": {},
   "outputs": [],
   "source": [
    "# Back to lists, think about the order of the indexing a[2][1] does n't exist in this example\n",
    "\n",
    "a = [[1, 2, 3], [4, 5, 6]]\n",
    "print(a[1][2])"
   ]
  },
  {
   "cell_type": "markdown",
   "metadata": {},
   "source": [
    "# Control Statements"
   ]
  },
  {
   "cell_type": "code",
   "execution_count": null,
   "metadata": {},
   "outputs": [],
   "source": [
    "#Ok now to apply some control\n",
    "\n",
    "a = 5\n",
    "b = 6\n",
    "\n",
    "if (a < b):                # Notice the colon\n",
    "    print('A is lower')    # and the use of indentation to indicate which statements are part of each case\n",
    "\n",
    "    if (a + 100) < b:                # You can nest control statements\n",
    "      print('A is much lower') \n",
    "    else:                            # Try reducing the indentation of this line\n",
    "      print('A is not much lower') "
   ]
  },
  {
   "cell_type": "code",
   "execution_count": null,
   "metadata": {},
   "outputs": [],
   "source": [
    "#some looping\n",
    "fruits = [\"apple\", \"banana\", \"cherry\"]\n",
    "for x in fruits:\n",
    "  print(x)"
   ]
  },
  {
   "cell_type": "code",
   "execution_count": null,
   "metadata": {},
   "outputs": [],
   "source": [
    "# Want a c style loop?\n",
    "\n",
    "for x in range(1,10,2) #don't worry it does n't create a real list of values\n",
    "    print(x)"
   ]
  },
  {
   "cell_type": "code",
   "execution_count": null,
   "metadata": {},
   "outputs": [],
   "source": [
    "# While loops are a little more familiar\n",
    "count = 0\n",
    "\n",
    "while (count<4):\n",
    "    print('The count is at iteration',count)\n",
    "    print('Another way to include the count of ' + str(count))\n",
    "    count += 1\n",
    "    \n",
    "print(\"Finished\")"
   ]
  },
  {
   "cell_type": "markdown",
   "metadata": {},
   "source": [
    "# Functions"
   ]
  },
  {
   "cell_type": "code",
   "execution_count": null,
   "metadata": {},
   "outputs": [],
   "source": [
    "# Now let's wrap some code in a function\n",
    "\n",
    "total = 0\n",
    "\n",
    "def sum(arg1, arg2):\n",
    "    total = arg1 + arg2 # We expect scope rules to create a local version of total. We'll check later.\n",
    "    print (\"Inside the function total =\", total)\n",
    "    arg1 = arg1 + 1\n",
    "    return total # You don't have to supply a return value\n",
    "\n",
    "# Now call sum function\n",
    "input1 = 10\n",
    "input2 = 20\n",
    "result = sum(input1, input2)\n",
    "print (\"The function result =\", result)\n",
    "print (\"Outside the function total =\", total)"
   ]
  },
  {
   "cell_type": "code",
   "execution_count": null,
   "metadata": {},
   "outputs": [],
   "source": [
    "# Is python pass by reference or pass by value. Answer: Neither\n",
    "# It's pass by object.\n",
    "\n",
    "def zero_element(index, a_list):\n",
    "    print(\"Inside function at start\",index, a_list)\n",
    "    a_list[index] = 0\n",
    "    index += 1\n",
    "    print(\"Inside function at end  \",index, a_list)\n",
    "    return\n",
    "\n",
    "where = 4\n",
    "my_list = [1,2,3,4,5,6,7,8,9,10]\n",
    "print(\"Before function \",where, my_list)\n",
    "zero_element(where, my_list)\n",
    "print(\"After function \",where, my_list)"
   ]
  },
  {
   "cell_type": "markdown",
   "metadata": {},
   "source": [
    "# Exceptions"
   ]
  },
  {
   "cell_type": "code",
   "execution_count": null,
   "metadata": {},
   "outputs": [],
   "source": [
    "# Exceptions are generated when something goes wrong.\n",
    "# We can catch them and handle them. They are passed up through the call graph until they\n",
    "# are handled or we've reached to top.\n",
    "\n",
    "def zero_element(index, a_list):\n",
    "    try:\n",
    "        print(\"Inside function as start\",index, a_list)\n",
    "        a_list[index] = 0\n",
    "        index += 1\n",
    "        print(\"Inside function as end  \",index, a_list)\n",
    "    except:\n",
    "        print('Something went wrong')\n",
    "    return\n",
    "\n",
    "where = 11\n",
    "my_list = [1,2,3,4,5,6,7,8,9,10]\n",
    "print(\"Before function \",where, my_list)\n",
    "zero_element(where, my_list)\n",
    "print(\"After function \",where, my_list)"
   ]
  },
  {
   "cell_type": "code",
   "execution_count": null,
   "metadata": {},
   "outputs": [],
   "source": [
    "# Python user-defined exceptions\n",
    "\n",
    "class Error(Exception):\n",
    "   \"\"\"Base class for other exceptions\"\"\"\n",
    "   pass\n",
    "\n",
    "class ValueTooSmallError(Error):\n",
    "   \"\"\"Raised when the input value is too small\"\"\"\n",
    "   pass\n",
    "\n",
    "class ValueTooLargeError(Error):\n",
    "   \"\"\"Raised when the input value is too large\"\"\"\n",
    "   pass\n",
    "\n",
    "# our main program\n",
    "# user guesses a number until he/she gets it right\n",
    "\n",
    "# you need to guess this number\n",
    "number = 10\n",
    "\n",
    "while True:\n",
    "   try:\n",
    "       i_num = int(input(\"Enter a number: \"))\n",
    "       if i_num < number:\n",
    "           raise ValueTooSmallError\n",
    "       elif i_num > number:\n",
    "           raise ValueTooLargeError\n",
    "       break\n",
    "   except ValueTooSmallError:\n",
    "       print(\"This value is too small, try again!\")\n",
    "       print()\n",
    "   except ValueTooLargeError:\n",
    "       print(\"This value is too large, try again!\")\n",
    "       print()\n",
    "\n",
    "print(\"Congratulations! You guessed it correctly.\")"
   ]
  },
  {
   "cell_type": "markdown",
   "metadata": {},
   "source": [
    "## Classes"
   ]
  },
  {
   "cell_type": "markdown",
   "metadata": {},
   "source": [
    "class ClassName:<br>\n",
    "&nbsp;&nbsp;&nbsp;&nbsp;'Optional class documentation string'<br>\n",
    "&nbsp;&nbsp;&nbsp;&nbsp;<t>class_suite<br>"
   ]
  },
  {
   "cell_type": "code",
   "execution_count": null,
   "metadata": {
    "collapsed": true
   },
   "outputs": [],
   "source": [
    "class MyClass:\n",
    "    'A simple example class'\n",
    "\n",
    "    def f(self):\n",
    "        return 'Hello World'\n",
    "    \n",
    "    def __init__(self):\n",
    "        self.data = []\n",
    "        print(\"MyClass Initialiser called\")\n",
    "        return\n",
    "    \n",
    "    \n",
    "x = MyClass()\n",
    "print(x.f())\n",
    "print(x.data)"
   ]
  },
  {
   "cell_type": "code",
   "execution_count": null,
   "metadata": {
    "collapsed": true
   },
   "outputs": [],
   "source": [
    "# We are also allowed to derive classes\n",
    "\n",
    "class SecondClass(MyClass):\n",
    "    \n",
    "    def __init__(self):\n",
    "        super(SecondClass,self).__init__()\n",
    "        self.data2 = 50\n",
    "        print(\"SecondClass Initialiser called\")\n",
    "        return\n",
    "    \n",
    "    def g(self):\n",
    "        return 'This is second'\n",
    "\n",
    "y = SecondClass()\n",
    "\n",
    "print(y.f())\n",
    "print(y.data)\n",
    "print(y.g())\n",
    "print(y.data2)   "
   ]
  },
  {
   "cell_type": "code",
   "execution_count": null,
   "metadata": {
    "collapsed": true
   },
   "outputs": [],
   "source": [
    "# And override elements of the parent class\n",
    "\n",
    "class Parent:        # define parent class\n",
    "    def myMethod(self):\n",
    "        print('Calling parent method')\n",
    "\n",
    "class Child(Parent): # define child class\n",
    "    def myMethod(self):\n",
    "        print('Calling child method')\n",
    "\n",
    "c = Child()          # instance of child\n",
    "c.myMethod()         # child calls overridden method"
   ]
  },
  {
   "cell_type": "code",
   "execution_count": null,
   "metadata": {
    "collapsed": true
   },
   "outputs": [],
   "source": []
  }
 ],
 "metadata": {
  "kernelspec": {
   "display_name": "Python 3",
   "language": "python",
   "name": "python3"
  },
  "language_info": {
   "codemirror_mode": {
    "name": "ipython",
    "version": 3
   },
   "file_extension": ".py",
   "mimetype": "text/x-python",
   "name": "python",
   "nbconvert_exporter": "python",
   "pygments_lexer": "ipython3",
   "version": "3.8.5"
  }
 },
 "nbformat": 4,
 "nbformat_minor": 2
}
