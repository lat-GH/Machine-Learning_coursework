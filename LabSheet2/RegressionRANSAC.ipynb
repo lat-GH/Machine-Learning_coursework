{
 "cells": [
  {
   "cell_type": "markdown",
   "metadata": {},
   "source": [
    "## Linear Regression and RANSAC"
   ]
  },
  {
   "cell_type": "raw",
   "metadata": {},
   "source": [
    "This example is adapted from: https://scikit-learn.org/stable/auto_examples/linear_model/plot_ransac.html"
   ]
  },
  {
   "cell_type": "code",
   "execution_count": 2,
   "metadata": {},
   "outputs": [],
   "source": [
    "# Load the modules we need\n",
    "import numpy as np\n",
    "from matplotlib import pyplot as plt\n",
    "from sklearn import linear_model, datasets"
   ]
  },
  {
   "cell_type": "code",
   "execution_count": 3,
   "metadata": {},
   "outputs": [],
   "source": [
    "#  Create some intial data\n",
    "n_samples = 1000\n",
    "\n",
    "X, y = datasets.make_regression(n_samples=n_samples, n_features=1,\n",
    "                                      n_informative=1, noise=10,\n",
    "                                      random_state=0)"
   ]
  },
  {
   "cell_type": "code",
   "execution_count": 4,
   "metadata": {},
   "outputs": [],
   "source": [
    "# Add some outlier data\n",
    "np.random.seed(0)\n",
    "n_outliers = 50\n",
    "X[:n_outliers] = 3 + 0.5 * np.random.normal(size=(n_outliers, 1))\n",
    "y[:n_outliers] = -3 + 10 * np.random.normal(size=n_outliers)"
   ]
  },
  {
   "cell_type": "code",
   "execution_count": 5,
   "metadata": {},
   "outputs": [],
   "source": [
    "# Create some test positions for for the lines we will draw\n",
    "line_X = np.arange(X.min(), X.max())[:, np.newaxis]"
   ]
  },
  {
   "cell_type": "code",
   "execution_count": 62,
   "metadata": {},
   "outputs": [
    {
     "data": {
      "text/plain": [
       "'# This is the cell you need to replace to complete Task 2.\\n# Fit line using all data.\\nlr = linear_model.LinearRegression()\\nlr.fit(X, y) #use X and Y to create paramteres for a line\\nline_y = lr.predict(line_X)\\nprint(line_y) # the result is you have the create linear modle that can be used to calculte the resultinf y values from  aset of x values'"
      ]
     },
     "execution_count": 62,
     "metadata": {},
     "output_type": "execute_result"
    }
   ],
   "source": [
    "\"\"\"# This is the cell you need to replace to complete Task 2.\n",
    "# Fit line using all data.\n",
    "lr = linear_model.LinearRegression()\n",
    "lr.fit(X, y) #use X and Y to create paramteres for a line\n",
    "line_y = lr.predict(line_X)\n",
    "print(line_y) # the result is you have the create linear modle that can be used to calculte the resultinf y values from  aset of x values\"\"\""
   ]
  },
  {
   "cell_type": "code",
   "execution_count": 6,
   "metadata": {},
   "outputs": [
    {
     "name": "stdout",
     "output_type": "stream",
     "text": [
      "y_line:  [-174.38323639022218, -120.21087252120698, -66.03850865219175, -11.866144783176537, 42.30621908583869, 96.4785829548539, 150.65094682386913, 204.82331069288435]\n"
     ]
    }
   ],
   "source": [
    "alpha = 0\n",
    "beta = 0\n",
    "gamma = 0\n",
    "delta = 0\n",
    "N = len(X)\n",
    "#caluclate the values of the unknown variables\n",
    "for i in range(N):\n",
    "    alpha += X[i][0] * y[i]\n",
    "    beta +=(X[i][0])**2\n",
    "    gamma += X[i][0]\n",
    "    delta += y[i]\n",
    "\n",
    "#print(\"alpha, beta, gamma, delta:\", alpha, beta, gamma, delta)\n",
    "#solving the matrix equaltion\n",
    "A = np.array([[beta,gamma],[gamma,N]])\n",
    "b = np.array([alpha, delta])\n",
    "\n",
    "#solving the matrix equation to get the result for mc\n",
    "mc = np.linalg.solve(A,b)\n",
    "#print(\"mc: \",mc)\n",
    "m = mc[0]\n",
    "c = mc[1]\n",
    "\n",
    "#using the linear regression result to predict values based on an x values\n",
    "line_y = []\n",
    "for i in range(len(line_X)):\n",
    "    line_y.append((m*line_X[i][0]) + c)\n",
    "    \n",
    "print(\"y_line: \",line_y)"
   ]
  },
  {
   "cell_type": "code",
   "execution_count": 7,
   "metadata": {},
   "outputs": [
    {
     "data": {
      "text/plain": [
       "'\\n# This is the cell you need to replace to complete Task 3.\\n# Robustly fit linear model with RANSAC algorithm\\nransac = linear_model.RANSACRegressor()\\nransac.fit(X, y)\\n\\n# Predict data of estimated models\\nline_y_ransac = ransac.predict(line_X)\\nprint(\"ORIGINAL\",line_y_ransac)\\n\\n# Label the if source data is inlier or outlier\\ninlier_mask1 = ransac.inlier_mask_\\noutlier_mask1 = np.logical_not(inlier_mask1)'"
      ]
     },
     "execution_count": 7,
     "metadata": {},
     "output_type": "execute_result"
    }
   ],
   "source": [
    "\"\"\"\n",
    "# This is the cell you need to replace to complete Task 3.\n",
    "# Robustly fit linear model with RANSAC algorithm\n",
    "ransac = linear_model.RANSACRegressor()\n",
    "ransac.fit(X, y)\n",
    "\n",
    "# Predict data of estimated models\n",
    "line_y_ransac = ransac.predict(line_X)\n",
    "print(\"ORIGINAL\",line_y_ransac)\n",
    "\n",
    "# Label the if source data is inlier or outlier\n",
    "inlier_mask1 = ransac.inlier_mask_\n",
    "outlier_mask1 = np.logical_not(inlier_mask1)\"\"\""
   ]
  },
  {
   "cell_type": "code",
   "execution_count": 10,
   "metadata": {
    "pycharm": {
     "name": "#%%\n"
    }
   },
   "outputs": [
    {
     "name": "stdout",
     "output_type": "stream",
     "text": [
      "y_line:  [-257.22368295479725, -174.7857747677818, -92.3478665807663, -9.909958393750795, 72.5279497932647, 154.9658579802802, 237.4037661672957, 319.8416743543112]\n"
     ]
    }
   ],
   "source": [
    "import math\n",
    "import random\n",
    "\n",
    "#cal the value of N\n",
    "e = n_outliers/len(X) #50/1000 #FINF OUT IF THIS IS RIGHT!!\n",
    "P = 0.99\n",
    "S = 2\n",
    "D = 0.9 # HOW DO YOU DECIDE THE RANGE FOR WHIHC VALUE COUTN AS INLIERS OR OUTLIERS\n",
    "\n",
    "def CalcN (e, p, s):\n",
    "    num = math.log(1-p)\n",
    "    denom = math.log(1-((1-e)**s))\n",
    "    return num/denom\n",
    "\n",
    "#print(CalcN(e,P,S))\n",
    "N = math.ceil(CalcN(e,P,S))\n",
    "#calculating the differn inliers and outliers\n",
    "#PointsForLinear = 2 = S^^\n",
    "bestLine = [[],1000]\n",
    "finalOutliers = []\n",
    "\n",
    "def get_RandomPoints(x, Y,n):\n",
    "    pointS = []\n",
    "    for i in range(n):\n",
    "        r = random.randint(0,len(x))\n",
    "        p = [x[r][0], Y[r]]\n",
    "        pointS.append(p)\n",
    "    return pointS\n",
    "\n",
    "def subtract2D(x,y):\n",
    "    result = []\n",
    "    result.append(x[0] - y[0])\n",
    "    result.append(x[1] - y[1])\n",
    "    return result\n",
    "\n",
    "def Cal_Distance(p, x, y):\n",
    "    p1 = p[0]\n",
    "    p2 = p[1]\n",
    "    p3 = [x,y]\n",
    "    d = np.linalg.norm(np.cross(subtract2D(p2,p1), subtract2D(p1,p3)))/np.linalg.norm(subtract2D(p2,p1))\n",
    "    return d\n",
    "\n",
    "def Calc_InORout(dis, D, out):\n",
    "    if abs(dis) <= D:\n",
    "        return False\n",
    "    else:\n",
    "        return True\n",
    "\n",
    "def Calc_NumOutliers(outs):\n",
    "    n=0\n",
    "    for x in outs:\n",
    "        if x == True:\n",
    "            n +=1\n",
    "    return n\n",
    "def Calc_line(p1, p2):\n",
    "    m = (p1[1]-p2[1])/(p1[0]-p2[0])\n",
    "    c = p2[1] - m*p2[0]\n",
    "    return [m,c]\n",
    "\n",
    "\n",
    "\n",
    "for i in range(N):\n",
    "    outliers = []\n",
    "    points = get_RandomPoints(X,y,S)\n",
    "    for j in range(len(X)):\n",
    "        distance = Cal_Distance(points, X[j][0], y[j])\n",
    "        outliers.append(Calc_InORout(distance, D ,outliers))\n",
    "\n",
    "    totalOutliers = Calc_NumOutliers(outliers)\n",
    "    if  totalOutliers < bestLine[1]:\n",
    "        bestLine[0] = points\n",
    "        bestLine[1] = totalOutliers\n",
    "        finalOutliers = outliers\n",
    "\n",
    "\n",
    "mc = Calc_line(bestLine[0][0], bestLine[0][1])\n",
    "m = mc[0]\n",
    "c = mc[1]\n",
    "\n",
    "#using the linear regression result to predict values based on an x values\n",
    "line_y_ransac = []\n",
    "for i in range(len(line_X)):\n",
    "    line_y_ransac.append((m*line_X[i][0]) + c)\n",
    "\n",
    "print(\"y_line: \",line_y_ransac)\n",
    "\n",
    "\n",
    "\n",
    "outlier_mask = outliers\n",
    "inliers = np.logical_not(outlier_mask)\n",
    "inlier_mask = inliers"
   ]
  },
  {
   "cell_type": "code",
   "execution_count": null,
   "metadata": {
    "pycharm": {
     "name": "#%%\n"
    }
   },
   "outputs": [],
   "source": []
  },
  {
   "cell_type": "code",
   "execution_count": 11,
   "metadata": {
    "pycharm": {
     "name": "#%%\n"
    }
   },
   "outputs": [
    {
     "data": {
      "image/png": "[encoded data removed]",
      "text/plain": [
       "<Figure size 432x288 with 1 Axes>"
      ]
     },
     "metadata": {
      "needs_background": "light"
     },
     "output_type": "display_data"
    }
   ],
   "source": [
    "lw = 2\n",
    "\n",
    "doing_linear = True\n",
    "doing_ransac = True\n",
    "\n",
    "if (doing_linear):\n",
    "    plt.plot(line_X, line_y, color='navy', linewidth=lw, label='Linear regressor')\n",
    "\n",
    "if (doing_ransac):\n",
    "    plt.scatter(X[inlier_mask], y[inlier_mask], color='yellowgreen', marker='.', label='Inliers')\n",
    "    plt.scatter(X[outlier_mask], y[outlier_mask], color='gold', marker='.', label='Outliers')\n",
    "    plt.plot(line_X, line_y_ransac, color='cornflowerblue', linewidth=lw, label='RANSAC regressor')\n",
    "else:\n",
    "    plt.scatter(X, y, color='yellowgreen', marker='.', label='Data')\n",
    "    \n",
    "plt.legend(loc='lower right')\n",
    "plt.xlabel(\"Input\")\n",
    "plt.ylabel(\"Response\")\n",
    "plt.show()"
   ]
  },
  {
   "cell_type": "code",
   "execution_count": 66,
   "metadata": {
    "collapsed": true
   },
   "outputs": [],
   "source": []
  }
 ],
 "metadata": {
  "kernelspec": {
   "display_name": "Python 3",
   "language": "python",
   "name": "python3"
  },
  "language_info": {
   "codemirror_mode": {
    "name": "ipython",
    "version": 3
   },
   "file_extension": ".py",
   "mimetype": "text/x-python",
   "name": "python",
   "nbconvert_exporter": "python",
   "pygments_lexer": "ipython3",
   "version": "3.8.5"
  }
 },
 "nbformat": 4,
 "nbformat_minor": 2
}