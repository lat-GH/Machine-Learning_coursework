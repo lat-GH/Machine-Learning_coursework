{
 "cells": [
  {
   "cell_type": "code",
   "execution_count": 4,
   "metadata": {},
   "outputs": [],
   "source": [
    "import numpy as np\n",
    "\n",
    "# initial_P = [L,H]\n",
    "initial_P = [-1, -1]\n",
    "#transition_P = [[From L to L, From L to H], [From H to L, From H to L]]\n",
    "transition_P = [[-0.737, -1.322],[-1, -1]]\n",
    "#observations_P = [ [LA, LC, LG, LT,], [HA, HC, HG, HT] ]\n",
    "observations_P = [[-1.737, -2.322, -2.322, -1.737],[-2.322, -1.737, -1.737, -2.322]]\n",
    "\n",
    "states = ['L','H']\n",
    "numStates = len(states)\n",
    "#A=0 C=1 G=2 T=3\n",
    "obs = ['A','C','G','T']\n",
    "obs_sequence = ['G','G','C','A','C','T','G','A','A']\n",
    "\n",
    "#T_probs = [[number of rows] [number of cols]\n",
    "T_probs = np.zeros([len(states), len(obs_sequence)], dtype=float)\n",
    "T_maxStates = np.empty([len(states),len(obs_sequence)-1], dtype=int) #0=L 1=H\n",
    "\n",
    "def letterToNum(letter):\n",
    "    return obs.index(letter)\n",
    "\n",
    "#initailinsing T_probs\n",
    "for i in range(numStates):\n",
    "    T_probs[i][0] = initial_P[i] + observations_P[i][letterToNum(obs_sequence[0])]\n"
   ]
  },
  {
   "cell_type": "code",
   "execution_count": 5,
   "metadata": {},
   "outputs": [
    {
     "name": "stdout",
     "output_type": "stream",
     "text": [
      "values: \n",
      " [[ -3.322  -6.059  -8.796 -10.948 -14.007 -16.481 -19.54  -22.014 -24.488]\n",
      " [ -2.737  -5.474  -8.211 -11.533 -14.007 -17.329 -19.54  -22.862 -25.658]]\n",
      "decisions: \n",
      " [[1 1 1 0 0 0 0 0]\n",
      " [1 1 1 0 1 0 1 0]]\n"
     ]
    }
   ],
   "source": [
    "#TASK 1\n",
    "#populating the table with the probabilities and the storing which max they chose\n",
    "for c in range(1,len(obs_sequence)):\n",
    "    currObs = letterToNum(obs_sequence[c])\n",
    "    for r in range(numStates):\n",
    "        x = np.empty([numStates])\n",
    "        for s in range(numStates):\n",
    "            x[s] = T_probs[s][c - 1] + transition_P[s][r]\n",
    "\n",
    "        T_probs[r][c] = observations_P[r][currObs] + max(x)\n",
    "        T_maxStates[r][c-1] = np.argmax(x)\n",
    "\n",
    "#print(\"T_probs: \\n\",T_probs)\n",
    "print(\"values: \\n\",T_probs)\n",
    "print(\"decisions: \\n\", T_maxStates)\n"
   ]
  },
  {
   "cell_type": "code",
   "execution_count": 6,
   "metadata": {},
   "outputs": [
    {
     "name": "stdout",
     "output_type": "stream",
     "text": [
      "['H', 'H', 'H', 'L', 'L', 'L', 'L', 'L', 'L']\n"
     ]
    }
   ],
   "source": [
    "#TASK 2\n",
    "#calculting the starting value of the backtrack\n",
    "possMaxs = np.empty([numStates])\n",
    "for i in range(numStates):\n",
    "    possMaxs[i] = T_probs[i][len(obs_sequence)-1]\n",
    "startMax = np.argmax(possMaxs)\n",
    "\n",
    "resultingState = np.empty(len(obs_sequence),dtype=int)\n",
    "resultingState[len(obs_sequence)-1] = startMax\n",
    "currMax = startMax\n",
    "\n",
    "#completing the backtrack\n",
    "for c in range(len(obs_sequence)-2, -1, -1):\n",
    "    resultingState[c] = T_maxStates[currMax][c]\n",
    "    currMax = resultingState[c]\n",
    "\n",
    "#print(\"resultingState: \", resultingState)\n",
    "#creating a letter list of the final state sequence\n",
    "stateLetters = []\n",
    "for s in resultingState:\n",
    "    stateLetters.append(states[s])\n",
    "print(stateLetters)"
   ]
  }
 ],
 "metadata": {
  "kernelspec": {
   "display_name": "Python 3",
   "language": "python",
   "name": "python3"
  },
  "language_info": {
   "codemirror_mode": {
    "name": "ipython",
    "version": 3
   },
   "file_extension": ".py",
   "mimetype": "text/x-python",
   "name": "python",
   "nbconvert_exporter": "python",
   "pygments_lexer": "ipython3",
   "version": "3.8.5"
  }
 },
 "nbformat": 4,
 "nbformat_minor": 4
}
