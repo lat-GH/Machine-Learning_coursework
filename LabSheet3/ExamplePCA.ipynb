{
 "cells": [
  {
   "cell_type": "markdown",
   "metadata": {},
   "source": [
    "## PCA Example"
   ]
  },
  {
   "cell_type": "code",
   "execution_count": null,
   "metadata": {
    "collapsed": true
   },
   "outputs": [],
   "source": [
    "# Grab the modules we need for this example\n",
    "from sklearn.preprocessing import StandardScaler\n",
    "from sklearn.datasets import load_breast_cancer\n",
    "from sklearn.decomposition import PCA\n",
    "import matplotlib.pyplot as plt"
   ]
  },
  {
   "cell_type": "code",
   "execution_count": null,
   "metadata": {},
   "outputs": [],
   "source": [
    "# An example of using StandardScaler\n",
    "\n",
    "data = [[0, 0], [0, 0], [1, 1], [1, 1]]\n",
    "\n",
    "# Instance the scaler\n",
    "scaler = StandardScaler()\n",
    "\n",
    "# Set it up\n",
    "print(scaler.fit(data))\n",
    "print(scaler.mean_)\n",
    "print(scaler.transform(data))\n",
    "\n",
    "#Apply to other data\n",
    "print(scaler.transform([[2, 2]]))"
   ]
  },
  {
   "cell_type": "code",
   "execution_count": null,
   "metadata": {
    "collapsed": true
   },
   "outputs": [],
   "source": [
    "# Use the  breast cancer data for PCA example\n",
    "cancer = load_breast_cancer()\n",
    "\n",
    "\n",
    "# Start by scaling it.\n",
    "scaler = StandardScaler()\n",
    "scaler.fit(cancer.data)\n",
    "x_scaled = scaler.transform(cancer.data)"
   ]
  },
  {
   "cell_type": "code",
   "execution_count": null,
   "metadata": {},
   "outputs": [],
   "source": [
    "# No instance a PCA transformer. We want the first two components.\n",
    "pca= PCA(n_components=2)\n",
    "\n",
    "# Apply is to the scaled cancer data to find the components.\n",
    "pca.fit(x_scaled)\n",
    "\n",
    "# Now apply the transform\n",
    "x_pca = pca.transform(x_scaled)\n",
    "\n",
    "print(\"Original shape: {}\".format(str(x_scaled.shape)))\n",
    "print(\"Reduced shape: {}\".format(str(x_pca.shape)))"
   ]
  },
  {
   "cell_type": "code",
   "execution_count": null,
   "metadata": {},
   "outputs": [],
   "source": [
    "# Let's plot the data using the two components as a scatter plot.\n",
    "# With the class labelled with a colour and shape\n",
    "plt.figure(figsize=(8,8))\n",
    "\n",
    "all_cols = ['red','green']\n",
    "all_shapes = ['o', 'v']\n",
    "\n",
    "for i in range(len(cancer.target)):\n",
    "    plt.plot(x_pca[i,0],x_pca[i,1], markerfacecolor=all_cols[cancer.target[i]],\n",
    "    marker=all_shapes[cancer.target[i]],markeredgecolor=all_cols[cancer.target[i]])\n",
    "    \n",
    "plt.show()\n"
   ]
  },
  {
   "cell_type": "code",
   "execution_count": null,
   "metadata": {
    "collapsed": true
   },
   "outputs": [],
   "source": []
  },
  {
   "cell_type": "code",
   "execution_count": null,
   "metadata": {
    "collapsed": true
   },
   "outputs": [],
   "source": []
  }
 ],
 "metadata": {
  "kernelspec": {
   "display_name": "Python 3",
   "language": "python",
   "name": "python3"
  },
  "language_info": {
   "codemirror_mode": {
    "name": "ipython",
    "version": 3
   },
   "file_extension": ".py",
   "mimetype": "text/x-python",
   "name": "python",
   "nbconvert_exporter": "python",
   "pygments_lexer": "ipython3",
   "version": "3.6.1"
  }
 },
 "nbformat": 4,
 "nbformat_minor": 2
}
